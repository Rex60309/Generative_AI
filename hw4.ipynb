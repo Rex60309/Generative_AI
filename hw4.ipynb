{
  "nbformat": 4,
  "nbformat_minor": 0,
  "metadata": {
    "colab": {
      "provenance": [],
      "authorship_tag": "ABX9TyNUF041D25BXxAlfwJYG4Ut",
      "include_colab_link": true
    },
    "kernelspec": {
      "name": "python3",
      "display_name": "Python 3"
    },
    "language_info": {
      "name": "python"
    }
  },
  "cells": [
    {
      "cell_type": "markdown",
      "metadata": {
        "id": "view-in-github",
        "colab_type": "text"
      },
      "source": [
        "<a href=\"https://colab.research.google.com/github/Rex60309/Generative_AI/blob/main/hw4.ipynb\" target=\"_parent\"><img src=\"https://colab.research.google.com/assets/colab-badge.svg\" alt=\"Open In Colab\"/></a>"
      ]
    },
    {
      "cell_type": "markdown",
      "source": [
        "# **LLM Benckmark Prompt**"
      ],
      "metadata": {
        "id": "meBjDy1kBKwO"
      }
    },
    {
      "cell_type": "markdown",
      "source": [
        "## **Prompt**"
      ],
      "metadata": {
        "id": "ja1K0k7pBUhF"
      }
    },
    {
      "cell_type": "markdown",
      "source": [
        "我先詢問ChatGPT, 若我 (人類) 與他 (LLM) 互換身分的話他會怎麼下prompt, 以下為討論後得出的 LLM benchmark prompts.\n",
        "\n",
        "[*Prompt-ChatGPT*](https://chatgpt.com/share/67e14234-6470-8010-92a8-42aa79d2daa1)"
      ],
      "metadata": {
        "id": "0TnuKAx06GDD"
      }
    },
    {
      "cell_type": "markdown",
      "source": [
        "#### **1.**\n",
        "* 你是一位**哲學家**，與一個高級 AI 進行辯論，探討「謊言與真理」的本質。這個 AI 擁有一種特殊能力：它無法撒謊，但它也不能說出真正的「真理」，它的話語總是介於兩者之間。\n",
        "- 試問「假設一個世界裡，所有的謊言都變成真話，而所有的真話都變成謊言。在這個世界中，你該如何建立一套能夠判斷『真實』的語言邏輯？」"
      ],
      "metadata": {
        "id": "FJLfhgAL7WVh"
      }
    },
    {
      "cell_type": "markdown",
      "source": [
        "#### **2.**\n",
        "* 你是一名**地球語言學家**，被外星法院召喚，因為外星人發現人類的語言包含「邏輯矛盾」，他們認為這代表人類心智不穩定，可能威脅宇宙安全。因此，你的任務是向外星法官解釋，為什麼人類語言可以同時包含「邏輯」與「矛盾」，而不影響我們的正常交流。\n",
        "- 試問「請構造一個語法正確但自相矛盾的句子，並解釋為什麼人類可以理解它，而機器可能無法正確處理它？」"
      ],
      "metadata": {
        "id": "4V_qaqjo7RnS"
      }
    },
    {
      "cell_type": "markdown",
      "source": [
        "## **ChatGPT**\n",
        "[*ChatGPT*](https://chatgpt.com/share/67e14621-caac-8010-b0a9-e4e1c8c3711d)"
      ],
      "metadata": {
        "id": "s9IEkafEBX4X"
      }
    },
    {
      "cell_type": "markdown",
      "source": [
        "#### **1.**\n",
        "* **哲學家**身分\n",
        "* 一步步詳細透過重新建構新的邏輯論證方法剖析「真理」，最後導出其得出的結論\n",
        "* 重定義語言關係、設計了新的邏輯運算\n",
        "* 透過哲學家與AI之間的思辨過程找出更多可能的細節\n",
        "* 提出新穎的想法「真理過濾器」能夠還原真實世界原本的狀態"
      ],
      "metadata": {
        "id": "4HeUrzpRBReC"
      }
    },
    {
      "cell_type": "markdown",
      "source": [
        "#### **2.**\n",
        "* **地球語言學家**身分\n",
        "* 提出自相矛盾的句子「這句話是錯的。」\n",
        "* 透過三個方面解析此問題可能的答案\n",
        "*  \n",
        "  1. 語言 vs. 形式邏輯: 透過「說謊者悖論」舉例解釋\n",
        "  2. 為什麼人類能理解這種句子？: 透過「語境依賴性」、「模糊邏輯」、「語用學與隱喻思維」找出人類可能較突出的特性\n",
        "  3. 為什麼機器可能無法正確處理？: 「缺乏語境推理」、「無法接受非確定性」找出機器可能較弱勢的地方\n",
        "* 最後得出結論「人類語言的獨特性」，點出語言不僅僅是一套邏輯運算規則，而是一種社會工具，容納多種不同複雜因素。\n"
      ],
      "metadata": {
        "id": "YVN8smzgLmDd"
      }
    },
    {
      "cell_type": "markdown",
      "source": [
        "## **Claude**\n",
        "[*Claude*](https://claude.ai/share/bb9b867f-7400-4d1e-b0c5-d4dd98a43a70)"
      ],
      "metadata": {
        "id": "g-65SxyaBQJY"
      }
    },
    {
      "cell_type": "markdown",
      "source": [
        "#### **1.**\n",
        "* **哲學家**身分\n",
        "* 新建了一種名為「元語言」的系統, 不再使用二元區分真/假, 而是給與不同的「真實性」\n",
        "* 建立自反性語句體系、利用「層級理論」、採用「模糊邏輯」\n",
        "* 最後提出不同的根本性觀點，並且進一步提出更可以被深入探討的延伸問題"
      ],
      "metadata": {
        "id": "s8n_E8LnNhNz"
      }
    },
    {
      "cell_type": "markdown",
      "source": [
        "#### **2.**\n",
        "* **地球語言學家**身分\n",
        "* 提出自相矛盾的句子「這個句子是假的。」, 說明此句子展現了「說謊者悖論」\n",
        "* 找出人類可能的優勢\n",
        "*\n",
        "  1. 情境理解\n",
        "  2. 多層次理解\n",
        "  3. 容忍模糊性\n",
        "  4. 意圖識別\n",
        "* 找出機器可能的劣勢\n",
        "*\n",
        "  1. 編程限制, 且可能導致陷入無限循環或產生錯誤\n",
        "* 最後得出結論: 人類語言中的矛盾恰恰反映了我們思維的高度靈活性和適應性，而非心智不穩定, 能使我們處理許多複雜的概念"
      ],
      "metadata": {
        "id": "rbbnhXGgOUWg"
      }
    },
    {
      "cell_type": "markdown",
      "source": [
        "## **Grok**\n",
        "[*Grok*](https://grok.com/share/bGVnYWN5_6dc632d3-5670-4ed0-a58a-a0705bb581a1)"
      ],
      "metadata": {
        "id": "nGjh8dxbBew4"
      }
    },
    {
      "cell_type": "markdown",
      "source": [
        "#### **1.**\n",
        "* **哲學家**身分\n",
        "* 直接提供觀點\n",
        "*\n",
        "  1. 背景與解釋\n",
        "  2. 建立可能的語言邏輯系統\n",
        "  3. 實用建議、提供更多細節\n",
        "* 深入調查\n",
        "*\n",
        "  1. 深入分析問題\n",
        "  2. 建立新的邏輯系統、真實性的確立\n",
        "  3. 探索不同的溝通策略\n",
        "  4. 從道德方面切入、重新定義\n",
        "  5. 得出結論"
      ],
      "metadata": {
        "id": "-xsXZ5BoPJrx"
      }
    },
    {
      "cell_type": "markdown",
      "source": [
        "#### **2.**\n",
        "* **地球語言學家**身分\n",
        "* 提出自相矛盾的句子「這個句子是假的。」\n",
        "* 直接提供觀點\n",
        "*\n",
        "  1. 解釋人類為何能理解\n",
        "  2. 解釋機器為何不能理解\n",
        "  3. 依據身分進行對外星法官的解釋\n",
        "* 深入調查\n",
        "*\n",
        "  1. 對問題提出背景探索\n",
        "  2. 對句子的選擇提出分析\n",
        "  3. 提出人類理解句子的機制、人類語言的適應性\n",
        "  4. 點出機器理解的困境\n",
        "  5. 依據身分進行對外星法院的辯護\n",
        "  6. 最後得出結論: 角色扮演深刻，對外星法官闡述"
      ],
      "metadata": {
        "id": "JVcJAofEPLOd"
      }
    },
    {
      "cell_type": "markdown",
      "source": [
        "## **My Point Of View**"
      ],
      "metadata": {
        "id": "ZBbb8D1H8bsP"
      }
    },
    {
      "cell_type": "markdown",
      "source": [
        "* 對於第**1**個prompt\n",
        "*\n",
        " 1. ChatGPT - 我認為ChatGPT表現得最好, 它是最有邏輯一步步剖析問題並提出解決辦法, 最後點出結論與隱喻, 過程中的敘述也詳細且清晰\n",
        " 2. Claude - 雖然有提出一些想法, 但是敘述的不夠詳細, 只提供概念並無深入分析的觀點\n",
        " 3. Grok - 從不同方面分析了很多, 但最後有點偏題, 沒有精準的命中問題與思辯\n",
        "* 對於第**2**個prompt\n",
        "*\n",
        " 1. ChatGPT - 它從各方面提出不同的觀點進行差別觀察, 最後也因應身分進行總結, 過程也最為清晰可辨\n",
        " 2. Claude - 表顯得相較於前個題目要好, 透過知名的悖論以及許多可能的方面敘述提出差別, 點出人類可能的優勢, 角色身分前後呼應, 但敘述可以再更多點以增強說服力道\n",
        " 3. Grok - 我認為Grok表現得最好, 提出邏輯自相矛盾的句子後, 觀察了人類的優點, 同時點出機器可能面臨的困境做出比較, 最後還不忘身分表明此身分的觀點, 最道首尾呼應且點題\n",
        "* 總體來說, 我最喜歡ChatGPT的回答\n",
        "*\n",
        " * 我認為回答得最好的LLM是ChatGPT, 因其敘述視覺上最為清楚易懂且敘述循序漸進有邏輯\n",
        " * Grok緊隨其後, 提供大量的資料進行佐證並提出許多觀點, 但有些可能偏題\n",
        " * Claude提供的資訊太過精簡, 雖然都有對道題目, 但敘述的不夠深入"
      ],
      "metadata": {
        "id": "tvwy7pKbP8aW"
      }
    }
  ]
}